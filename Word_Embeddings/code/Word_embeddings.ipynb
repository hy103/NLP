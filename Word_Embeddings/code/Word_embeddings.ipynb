{
 "cells": [
  {
   "cell_type": "markdown",
   "metadata": {},
   "source": []
  },
  {
   "cell_type": "code",
   "execution_count": null,
   "metadata": {},
   "outputs": [],
   "source": [
    "\n",
    "import numpy as np\n",
    "from scipy import spatial\n",
    "import matplotlib.pyplot as plt\n",
    "from sklearn.manifold import TSNE"
   ]
  },
  {
   "cell_type": "code",
   "execution_count": null,
   "metadata": {},
   "outputs": [],
   "source": [
    "!pip3 install nltk"
   ]
  },
  {
   "cell_type": "code",
   "execution_count": 81,
   "metadata": {},
   "outputs": [
    {
     "name": "stdout",
     "output_type": "stream",
     "text": [
      "Embeddings for rent are : [ 5.1692986e-01  6.5506393e-01  5.7652289e-01  2.7799532e-01\n",
      " -1.6981408e-01 -7.8034925e-01  4.5958716e-01  1.5552295e+00\n",
      " -3.5867807e-02 -2.5977087e-01 -3.4483564e-01 -2.5059338e+00\n",
      "  3.3337021e-01  4.8126251e-01 -3.5273728e-01 -4.2652854e-01\n",
      " -3.6243251e-01 -7.0134453e-03 -7.3589069e-01 -1.4172525e+00\n",
      " -1.4665200e-01  1.1614456e+00 -7.4890405e-02 -9.2381537e-02\n",
      " -6.2760091e-01  5.3291494e-01 -8.6085355e-01 -7.4808210e-01\n",
      " -9.0574217e-01 -2.9362382e-02  9.9598378e-01 -1.4453928e+00\n",
      "  9.0147769e-01 -6.8371499e-01 -1.6937320e+00  8.1254923e-01\n",
      "  6.1956193e-02 -4.1652641e-01 -1.3766192e-01 -1.4052604e+00\n",
      "  8.9650702e-01 -1.4213673e+00 -8.2824618e-01  1.4043330e+00\n",
      "  5.2867043e-01  2.5166556e-01 -3.3490655e-01 -7.9630357e-01\n",
      " -1.3893773e-01  4.2139038e-01  9.3517405e-01 -9.9724829e-01\n",
      "  9.5029104e-01 -7.5810361e-01 -6.3131523e-01  9.5256634e-02\n",
      "  7.1934414e-01 -1.5063406e+00 -4.6903065e-01 -6.3074273e-01\n",
      "  6.6394246e-01 -2.6439238e-01  4.8580754e-01  8.6095530e-01\n",
      " -8.3421457e-01  9.8033053e-01 -4.4132763e-01  1.1149833e+00\n",
      " -1.1418638e+00  2.7072731e-01 -6.6739458e-01  5.9507537e-01\n",
      "  1.2738590e+00 -3.2741943e-01  1.0502988e+00  9.5762479e-01\n",
      " -1.2077657e+00  3.5424915e-01 -3.4213167e-01 -5.4632378e-01\n",
      "  1.5596558e-03 -1.6417973e-01 -6.7011690e-01 -3.9871838e-02\n",
      "  5.2801169e-02 -2.9424742e-01  6.1663556e-01  1.3609625e-01\n",
      " -1.8952991e-01 -4.2290354e-01  8.9077222e-01  4.9810165e-01\n",
      "  2.8474757e-01 -4.0904453e-01  1.2767088e+00  4.7017422e-01\n",
      "  9.5063114e-01  2.7684966e-01 -2.2530779e-01 -4.4896710e-01]\n",
      "Top 10 similar words for rent are :\n",
      " [('Rent', 0.9573704600334167), ('per', 0.9512139558792114), ('/month', 0.9511011838912964), ('around', 0.9435403347015381), ('~2080', 0.9396170377731323), ('Base', 0.9366951584815979), ('475', 0.9316108226776123), ('person', 0.9315235018730164), ('rent-', 0.9304049611091614), ('$', 0.9236697554588318)]\n"
     ]
    }
   ],
   "source": [
    "# import the required libraries\n",
    "from gensim.models import Word2Vec\n",
    "import nltk\n",
    "\n",
    "# load the text document\n",
    "with open('/home/local/ASUAD/hyarrava/Documents/projects/word_embeddings/House_rentals.txt', 'r') as f:\n",
    "    text = f.read()\n",
    "\n",
    "# tokenize the text into sentences and words\n",
    "sentences = nltk.sent_tokenize(text)\n",
    "words = [nltk.word_tokenize(sentence) for sentence in sentences]\n",
    "# train the Word2Vec model\n",
    "model = Word2Vec(words, min_count=1)\n",
    "# get the embedding for a specific word\n",
    "embedding = model.wv['rent']\n",
    "print(\"Embeddings for rent are :\" ,embedding)\n",
    "\n",
    "# get the most similar words to a given word\n",
    "similar_words = model.wv.most_similar('rent')\n",
    "print(\"Top 10 similar words for rent are :\\n\",similar_words)"
   ]
  }
 ],
 "metadata": {
  "kernelspec": {
   "display_name": "Python 3",
   "language": "python",
   "name": "python3"
  },
  "language_info": {
   "codemirror_mode": {
    "name": "ipython",
    "version": 3
   },
   "file_extension": ".py",
   "mimetype": "text/x-python",
   "name": "python",
   "nbconvert_exporter": "python",
   "pygments_lexer": "ipython3",
   "version": "3.8.10 (default, Mar 13 2023, 10:26:41) \n[GCC 9.4.0]"
  },
  "orig_nbformat": 4,
  "vscode": {
   "interpreter": {
    "hash": "31f2aee4e71d21fbe5cf8b01ff0e069b9275f58929596ceb00d14d90e3e16cd6"
   }
  }
 },
 "nbformat": 4,
 "nbformat_minor": 2
}
